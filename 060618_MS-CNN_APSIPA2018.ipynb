{
 "cells": [
  {
   "cell_type": "markdown",
   "metadata": {},
   "source": [
    "### Blind Estimation of Speech Transmission Index in Noisy and Reverberant Environments Using Deep Learning with the Modulation Spectrum\n",
    "\n",
    "Author : Suradej Duangpummet \n",
    "\n",
    "Data : June 6, 2018"
   ]
  },
  {
   "cell_type": "code",
   "execution_count": 1,
   "metadata": {},
   "outputs": [
    {
     "name": "stderr",
     "output_type": "stream",
     "text": [
      "Using TensorFlow backend.\n"
     ]
    }
   ],
   "source": [
    "#Import Libaries\n",
    "import os\n",
    "import numpy as np \n",
    "from random import shuffle\n",
    "import matplotlib\n",
    "import matplotlib.pyplot as plt \n",
    "%matplotlib inline\n",
    "# --- Signal Processing Libary\n",
    "import librosa\n",
    "import librosa.display\n",
    "from scipy.fftpack import fft\n",
    "from scipy.io import wavfile\n",
    "from scipy.signal import butter, lfilter, freqz, hilbert, filtfilt\n",
    "\n",
    "# --- Machine Learining\n",
    "import keras\n",
    "from sklearn.model_selection import cross_val_score\n",
    "from keras.wrappers.scikit_learn import KerasRegressor\n",
    "from sklearn.model_selection import KFold\n",
    "from sklearn.preprocessing import MinMaxScaler\n",
    "from sklearn import metrics\n",
    "from keras.models import load_model\n",
    "from keras.models import model_from_json\n",
    "from sklearn.model_selection import train_test_split,cross_val_score\n",
    "\n",
    "from keras.models import Sequential\n",
    "from keras.layers import LSTM\n",
    "from keras.layers.embeddings import Embedding\n",
    "from keras.preprocessing import sequence\n",
    "\n",
    "from keras.layers import Dense, Input, Flatten, MaxPooling2D\n",
    "from keras.models import Model\n",
    "from keras.layers import Conv2D,Dropout\n",
    "from keras.optimizers import SGD\n",
    "from keras.layers.normalization import BatchNormalization\n",
    "from keras.layers.convolutional import Conv1D\n",
    "from keras.layers.convolutional import MaxPooling1D"
   ]
  },
  {
   "cell_type": "markdown",
   "metadata": {},
   "source": [
    "### Load convoluted speech signals (wav format)"
   ]
  },
  {
   "cell_type": "code",
   "execution_count": 8,
   "metadata": {},
   "outputs": [
    {
     "data": {
      "text/plain": [
       "(36501,)"
      ]
     },
     "execution_count": 8,
     "metadata": {},
     "output_type": "execute_result"
    }
   ],
   "source": [
    "wav_path = \"data/\"\n",
    "files = os.listdir(wav_path)\n",
    "#Allocating memory for dataset\n",
    "WAV = np.zeros([(len(files),48000]) #Sampling rate 16kS/s, 3 seconds long.\n",
    "STI = np.zeros([(len(files),1])\n",
    "\n",
    "#Dataset \n",
    "j = 0\n",
    "for w in files:  \n",
    "                \n",
    "    signal, Fs = librosa.load(wav_path+w)\n",
    "    X = np.array(signal)\n",
    "    Xpad = np.pad(X, (0, 48000-len(X)), mode='constant')#Padding \n",
    "    WAV[j]=np.array(Xpad)\n",
    "    #Load Speech Trassmision Index (STI) as our Targets  \n",
    "    sti = int(wav[0:4])\n",
    "    sti /=10000\n",
    "    STI[j] = rt\n",
    "    j += 1\n",
    "                \n",
    "#save to numpy files\n",
    "np.save('WAVclean',WAV)\n",
    "np.save('STIclean',STI)"
   ]
  },
  {
   "cell_type": "code",
   "execution_count": 9,
   "metadata": {},
   "outputs": [
    {
     "data": {
      "text/plain": [
       "[<matplotlib.lines.Line2D at 0x1f4c91fec50>]"
      ]
     },
     "execution_count": 9,
     "metadata": {},
     "output_type": "execute_result"
    },
    {
     "data": {
      "image/png": "[encoded data removed]",
      "text/plain": [
       "<matplotlib.figure.Figure at 0x1f4c8e249e8>"
      ]
     },
     "metadata": {},
     "output_type": "display_data"
    }
   ],
   "source": [
    "plt.plot(WAV[1])"
   ]
  },
  {
   "cell_type": "markdown",
   "metadata": {},
   "source": [
    "### Shuffle and Split the data set"
   ]
  },
  {
   "cell_type": "code",
   "execution_count": null,
   "metadata": {
    "collapsed": true
   },
   "outputs": [],
   "source": [
    "#generate runing number\n",
    "index = np.linspace(0,len(files)-1,len(files))\n",
    "\n",
    "shuffle(index) \n",
    "\n",
    "trainingSet = 30000 #e.g. spilt first 5000 files for training\n",
    "testSet = len(files)- noTrain  #the rest for testing\n",
    "\n",
    "\n",
    "x_train = np.zeros([trainingSet,33,24])\n",
    "y_train = np.zeros([trainingSet,1])\n",
    "x_test = np.zeros([testSet,33,24])\n",
    "y_test = np.zeros([testSet,1])\n",
    "\n",
    "\n",
    "j=0\n",
    "for i in range(0,noTrain):\n",
    "    x_train[j]= x_data[int(index[i])]\n",
    "    y_train[j]= Y_data[int(index[i])] \n",
    "    j +=1\n",
    "\n",
    "j=0    \n",
    "for i in range(noTrain,len(files)):\n",
    "    x_test[j]= x_data[int(index[i])]\n",
    "    y_test[j]= Y_data[int(index[i])]\n",
    "    j +=1\n",
    "    \n",
    "x_train = x_train.astype('float32')\n",
    "y_train = y_train.astype('float32')\n",
    "x_test = x_test.astype('float32')\n",
    "y_test = y_test.astype('float32')"
   ]
  },
  {
   "cell_type": "markdown",
   "metadata": {},
   "source": [
    "### Subband Decomposition using Octave Filter bank  (seven bandpass filter)"
   ]
  },
  {
   "cell_type": "code",
   "execution_count": null,
   "metadata": {
    "collapsed": true
   },
   "outputs": [],
   "source": [
    "fcentre = 125 #Centre Frequency at 125 Hz\n",
    "fd = np.power(2,1/2)\n",
    "highcut = fcentre *fd\n",
    "lowcut = fcentre/fd\n",
    "b, a = butter_bandpass(lowcut, highcut, Fs, order=6)\n",
    "y_f125 = sp.signal.filtfilt(b,a,wav[i])"
   ]
  },
  {
   "cell_type": "code",
   "execution_count": null,
   "metadata": {
    "collapsed": true
   },
   "outputs": [],
   "source": [
    "fcentre = 250\n",
    "fd = np.power(2,1/2)\n",
    "highcut = fcentre *fd\n",
    "lowcut = fcentre/fd\n",
    "b, a = butter_bandpass(lowcut, highcut, Fs, order=6)\n",
    "y_f250 = sp.signal.filtfilt(b,a,wav[i])"
   ]
  },
  {
   "cell_type": "code",
   "execution_count": null,
   "metadata": {
    "collapsed": true
   },
   "outputs": [],
   "source": [
    "fcentre = 500\n",
    "fd = np.power(2,1/2)\n",
    "highcut = fcentre *fd\n",
    "lowcut = fcentre/fd\n",
    "b, a = butter_bandpass(lowcut, highcut, Fs, order=6)\n",
    "y_f500 = sp.signal.filtfilt(b,a,wav[i])"
   ]
  },
  {
   "cell_type": "code",
   "execution_count": null,
   "metadata": {
    "collapsed": true
   },
   "outputs": [],
   "source": [
    "fcentre = 1000\n",
    "fd = np.power(2,1/2)\n",
    "highcut = fcentre *fd\n",
    "lowcut = fcentre/fd\n",
    "b, a = butter_bandpass(lowcut, highcut, Fs, order=6)\n",
    "y_f1000 = sp.signal.filtfilt(b,a,wav[i])"
   ]
  },
  {
   "cell_type": "code",
   "execution_count": null,
   "metadata": {
    "collapsed": true
   },
   "outputs": [],
   "source": [
    "fcentre = 2000\n",
    "fd = np.power(2,1/2)\n",
    "highcut = fcentre *fd\n",
    "lowcut = fcentre/fd\n",
    "b, a = butter_bandpass(lowcut, highcut, Fs, order=6)\n",
    "y_f2000 = sp.signal.filtfilt(b,a,wav[i])"
   ]
  },
  {
   "cell_type": "code",
   "execution_count": null,
   "metadata": {
    "collapsed": true
   },
   "outputs": [],
   "source": [
    "fcentre = 4000\n",
    "fd = np.power(2,1/2)\n",
    "highcut = fcentre *fd\n",
    "lowcut = fcentre/fd\n",
    "b, a = butter_bandpass(lowcut, highcut, Fs, order=6)\n",
    "y_f2000 = sp.signal.filtfilt(b,a,wav[i])"
   ]
  },
  {
   "cell_type": "code",
   "execution_count": null,
   "metadata": {
    "collapsed": true
   },
   "outputs": [],
   "source": [
    "fcentre = 8000\n",
    "fd = np.power(2,1/2)\n",
    "highcut = fcentre *fd\n",
    "lowcut = fcentre/fd\n",
    "b, a = butter_bandpass(lowcut, highcut, Fs, order=6)\n",
    "y_f8000 = sp.signal.filtfilt(b,a,wav[i])"
   ]
  },
  {
   "cell_type": "markdown",
   "metadata": {},
   "source": [
    "Hpyerparameter"
   ]
  },
  {
   "cell_type": "code",
   "execution_count": 2,
   "metadata": {
    "collapsed": true
   },
   "outputs": [],
   "source": [
    "batch_size = 64\n",
    "epochs = 10\n",
    "np.random.seed(7) #for reproducible"
   ]
  },
  {
   "cell_type": "markdown",
   "metadata": {},
   "source": [
    "Lowpass Filter"
   ]
  },
  {
   "cell_type": "code",
   "execution_count": 10,
   "metadata": {
    "collapsed": true
   },
   "outputs": [],
   "source": [
    "fc = 20 # cutoff frequency of the speech envelope  at 30 Hz\n",
    "N = 2   #filter order\n",
    "w_L = 2*fc/Fs\n",
    "#lowpas filter tf\n",
    "b, a = butter(N,w_L, 'low')"
   ]
  },
  {
   "cell_type": "markdown",
   "metadata": {},
   "source": [
    "Envelope Extraction using Hilbert Transform "
   ]
  },
  {
   "cell_type": "code",
   "execution_count": 26,
   "metadata": {},
   "outputs": [
    {
     "data": {
      "text/plain": [
       "[<matplotlib.lines.Line2D at 0x19754193b00>]"
      ]
     },
     "execution_count": 26,
     "metadata": {},
     "output_type": "execute_result"
    },
    {
     "data": {
      "image/png": "[encoded data removed]",
      "text/plain": [
       "<matplotlib.figure.Figure at 0x19754217128>"
      ]
     },
     "metadata": {},
     "output_type": "display_data"
    }
   ],
   "source": [
    "e_y = filtfilt(b,a,np.abs(hilbert(wav)))\n",
    "plt.plot(e_y)"
   ]
  },
  {
   "cell_type": "markdown",
   "metadata": {},
   "source": [
    "Down-Sampling from 16000 to 100 Hz"
   ]
  },
  {
   "cell_type": "code",
   "execution_count": 28,
   "metadata": {},
   "outputs": [
    {
     "data": {
      "text/plain": [
       "[<matplotlib.lines.Line2D at 0x19756588e80>]"
      ]
     },
     "execution_count": 28,
     "metadata": {},
     "output_type": "execute_result"
    },
    {
     "data": {
      "image/png": "[encoded data removed]",
      "text/plain": [
       "<matplotlib.figure.Figure at 0x1975653f278>"
      ]
     },
     "metadata": {},
     "output_type": "display_data"
    }
   ],
   "source": [
    "e_y_100Ss= librosa.resample(e_y,16000,100)\n",
    "plt.plot(e_y_100Ss)   "
   ]
  },
  {
   "cell_type": "markdown",
   "metadata": {},
   "source": [
    "Normailziing the signal"
   ]
  },
  {
   "cell_type": "code",
   "execution_count": 29,
   "metadata": {},
   "outputs": [
    {
     "data": {
      "image/png": "[encoded data removed]",
      "text/plain": [
       "<matplotlib.figure.Figure at 0x197565b2198>"
      ]
     },
     "metadata": {},
     "output_type": "display_data"
    }
   ],
   "source": [
    "e_y_100Ss_n=librosa.util.normalize(e_y_100Ss)\n",
    "plt.plot(e_y_100Ss_n)\n",
    "plt.grid(True)"
   ]
  },
  {
   "cell_type": "markdown",
   "metadata": {},
   "source": [
    "### Calulate Modulation Spectrogram using STFT"
   ]
  },
  {
   "cell_type": "code",
   "execution_count": 93,
   "metadata": {},
   "outputs": [
    {
     "data": {
      "text/plain": [
       "(257, 286)"
      ]
     },
     "execution_count": 93,
     "metadata": {},
     "output_type": "execute_result"
    }
   ],
   "source": [
    "D.shape"
   ]
  },
  {
   "cell_type": "code",
   "execution_count": 52,
   "metadata": {},
   "outputs": [
    {
     "data": {
      "image/png": "[encoded data removed]",
      "text/plain": [
       "<matplotlib.figure.Figure at 0x28aabde86a0>"
      ]
     },
     "metadata": {},
     "output_type": "display_data"
    }
   ],
   "source": [
    "plt.specgram(e_y, Fs=100, NFFT=1024, noverlap=5, detrend='mean', mode='psd')\n",
    "plt.xlabel('time')\n",
    "plt.ylabel('frequency')\n",
    "plt.colorbar(format='%+2.0f dB')\n",
    "plt.show()"
   ]
  },
  {
   "cell_type": "markdown",
   "metadata": {},
   "source": [
    "## Build the Network"
   ]
  },
  {
   "cell_type": "code",
   "execution_count": 2,
   "metadata": {},
   "outputs": [],
   "source": [
    "def MS_CNN_model():\n",
    "# create model\n",
    "    input_MS = Input(shape=(33,24,1))\n",
    "    x = Conv2D(128, kernel_size=(3,3), strides= (2,2),padding='same', activation = 'relu')(input_MS)\n",
    "    x = MaxPooling2D(pool_size=(2,2))(x)\n",
    "    x = BatchNormalization()(x)\n",
    "    x = Dropout(0.4)(x)\n",
    "    x = Conv2D(64, kernel_size=(3,3), strides=(2,2),padding='same',activation = 'relu')(x)\n",
    "    x = MaxPooling2D(pool_size=(2,2))(x)\n",
    "    x = BatchNormalization()(x)\n",
    "    x = Dropout(0.4)(x)\n",
    "    x = Flatten()(x)\n",
    "\n",
    "    out = Dense(1, activation='linear')(x)\n",
    "    MS_CNN_model = Model(input_MS,out)\n",
    "\n",
    "    MS_CNN_model.summary()\n",
    "\n",
    "    MS_CNN_model.compile(loss='mse',optimizer='rmsprop',metrics=['mean_squared_error'])\n",
    "    return MS_CNN_model\n"
   ]
  },
  {
   "cell_type": "markdown",
   "metadata": {},
   "source": [
    "### --------------------------- Training ---------------------------"
   ]
  },
  {
   "cell_type": "code",
   "execution_count": null,
   "metadata": {
    "collapsed": true
   },
   "outputs": [],
   "source": [
    "MS_CNN_model.fit(x_train, y_train, batch_size=batch_size, epochs=epochs, shuffle=True, verbose=1)"
   ]
  },
  {
   "cell_type": "markdown",
   "metadata": {},
   "source": [
    "### --------------------------- Evaluating ---------------------------"
   ]
  },
  {
   "cell_type": "code",
   "execution_count": null,
   "metadata": {
    "collapsed": true
   },
   "outputs": [],
   "source": [
    "score = MS_CNN_model.evaluate(x_test, y_test, verbose=0)\n",
    "yPredict = MS_CNN_model.predict(x_test)\n",
    "\n",
    "print(\"RMSE:%.3f\"%np.sqrt(metrics.mean_squared_error(y_test,yPredict)))"
   ]
  },
  {
   "cell_type": "markdown",
   "metadata": {},
   "source": [
    "###  --------------------------- Save the model ---------------------------"
   ]
  },
  {
   "cell_type": "code",
   "execution_count": null,
   "metadata": {
    "collapsed": true
   },
   "outputs": [],
   "source": [
    "print(\"saving the model...\")\n",
    "model_json = MS_CNN_model.to_json()\n",
    "with open(\"180606_modelMS-CNN.json\", \"w\") as json_file:\n",
    "    json_file.write(model_json)\n",
    "model.save_weights(\"180606_modelMS-CNN.h5\")"
   ]
  },
  {
   "cell_type": "markdown",
   "metadata": {},
   "source": [
    "### --------------------------- load trained model --------------------------"
   ]
  },
  {
   "cell_type": "code",
   "execution_count": null,
   "metadata": {
    "collapsed": true
   },
   "outputs": [],
   "source": [
    "json_file = open('180606_modelMS-CNN.json','rt')\n",
    "arch = json_file.read()\n",
    "json_file.close()\n",
    "model = model_from_json(arch)\n",
    "model.load_weights('180606_modelMS-CNN.h5')\n",
    "print(\"The model has been loaded.\")"
   ]
  }
 ],
 "metadata": {
  "kernelspec": {
   "display_name": "Python 3",
   "language": "python",
   "name": "python3"
  },
  "language_info": {
   "codemirror_mode": {
    "name": "ipython",
    "version": 3
   },
   "file_extension": ".py",
   "mimetype": "text/x-python",
   "name": "python",
   "nbconvert_exporter": "python",
   "pygments_lexer": "ipython3",
   "version": "3.5.4"
  }
 },
 "nbformat": 4,
 "nbformat_minor": 2
}
