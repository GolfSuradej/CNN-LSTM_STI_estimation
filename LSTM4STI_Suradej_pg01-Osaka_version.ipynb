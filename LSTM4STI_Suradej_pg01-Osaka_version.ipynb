{
 "cells": [
  {
   "cell_type": "code",
   "execution_count": 2,
   "metadata": {},
   "outputs": [
    {
     "name": "stderr",
     "output_type": "stream",
     "text": [
      "Using TensorFlow backend.\n"
     ]
    }
   ],
   "source": [
    "#Import Libaries\n",
    "import os\n",
    "import time\n",
    "import numpy as np \n",
    "from random import shuffle\n",
    "# --- Signal Processing Libary\n",
    "from scipy.io import wavfile\n",
    "from scipy.signal import butter, lfilter, freqz, hilbert, filtfilt\n",
    "import librosa\n",
    "# --- Machine Learining\n",
    "from sklearn.preprocessing import MinMaxScaler\n",
    "from sklearn import metrics\n",
    "from keras.models import Sequential\n",
    "from keras.layers import Dense\n",
    "from keras.layers import LSTM\n",
    "from keras.layers.embeddings import Embedding\n",
    "from keras.preprocessing import sequence"
   ]
  },
  {
   "cell_type": "code",
   "execution_count": 15,
   "metadata": {},
   "outputs": [],
   "source": [
    "#Load dataset \n",
    "dataset_path = \"datasetSTI/\"\n",
    "files = os.listdir(dataset_path)\n",
    "OVdim = 700000 #Sample length (44.1kHz)\n",
    "reDim = 253969 #Dimension after down sampling(16kHz)\n",
    "X_data = np.zeros((len(files),OVdim))\n",
    "Y_data = np.zeros((len(files),1))\n",
    "X_data = X_data.astype('float32')\n",
    "Y_data = Y_data.astype('float32') \n",
    "#smaller new dimension dataset\n",
    "x_data = np.zeros((len(files),reDim))\n",
    "x_data = X_data.astype('float32')\n",
    "i=0\n",
    "for wav in files:  \n",
    "    #Read wav data\n",
    "    if not wav.endswith(\".wav\"): continue\n",
    "    Fs,signal = wavfile.read(dataset_path+wav)\n",
    "    X = np.array(signal)\n",
    "    if(OVdim-len(X)>0):\n",
    "        Xpad = np.pad(X, (0, OVdim-len(X)), mode='constant')\n",
    "        X_data[i]=np.array(Xpad)\n",
    "        #Read label (Speech Transmission Idex) from file name\n",
    "        rt = int(wav[0:4])\n",
    "        rt /=10000\n",
    "        Y_data[i] = rt\n",
    "        i += 1\n",
    "    else:\n",
    "        print(\"dimension is not enought for some records!\")"
   ]
  },
  {
   "cell_type": "markdown",
   "metadata": {},
   "source": [
    "### Down sampling to 16kS/s"
   ]
  },
  {
   "cell_type": "code",
   "execution_count": 17,
   "metadata": {},
   "outputs": [],
   "source": [
    "x_data = librosa.resample(X_data, Fs, 16000)"
   ]
  },
  {
   "cell_type": "code",
   "execution_count": 42,
   "metadata": {},
   "outputs": [
    {
     "name": "stdout",
     "output_type": "stream",
     "text": [
      "Dimension at 44.1 kS/s : 700000\n",
      "Dimension at 16.0 kS/s : 253969\n"
     ]
    }
   ],
   "source": []
  },
  {
   "cell_type": "markdown",
   "metadata": {},
   "source": [
    "### Split dataset"
   ]
  },
  {
   "cell_type": "code",
   "execution_count": 24,
   "metadata": {},
   "outputs": [],
   "source": [
    "#Seperating dataset to Tune, Train and test Set\n",
    "index = np.linspace(0,len(files)-1,len(files))\n",
    "shuffle(index) #Shuffle Data\n",
    "\n",
    "tuningSet = 20\n",
    "trainingSet = 70\n",
    "testSet = len(files)- noTune - noTrain\n",
    "\n",
    "x_tune = np.zeros([tuningSet,reDim])#5000\n",
    "y_tune = np.zeros([tuningSet,1])\n",
    "x_train = np.zeros([trainingSet,reDim])#30000\n",
    "y_train = np.zeros([trainingSet,1])\n",
    "x_test = np.zeros([testSet,reDim])#the least\n",
    "y_test = np.zeros([testSet,1])\n",
    "x_train = x_train.astype('float32')\n",
    "y_train = y_train.astype('float32')\n",
    "x_tune = x_tune.astype('float32')\n",
    "y_tune = y_tune.astype('float32')\n",
    "x_test = x_test.astype('float32')\n",
    "y_test = y_test.astype('float32')\n",
    "\n",
    "for i in range(20):\n",
    "    x_tune[i]= x_data[int(index[i])]\n",
    "    y_tune[i]= Y_data[int(index[i])]\n",
    "j=0\n",
    "for i in range(20,90):\n",
    "    x_train[j]= x_data[int(index[i])]\n",
    "    y_train[j]= Y_data[int(index[i])] \n",
    "    j +=1\n",
    "j=0    \n",
    "for i in range(90,len(files)):\n",
    "    x_test[j]= x_data[int(index[i])]\n",
    "    y_test[j]= Y_data[int(index[i])]\n",
    "    j +=1\n"
   ]
  },
  {
   "cell_type": "markdown",
   "metadata": {},
   "source": [
    "### Sub-band Envelope Extraction"
   ]
  },
  {
   "cell_type": "code",
   "execution_count": 11,
   "metadata": {
    "collapsed": true
   },
   "outputs": [],
   "source": [
    "def butter_bandpass(lowcut, highcut, fs, order=3):\n",
    "    nyq = 0.5 * fs\n",
    "    low = lowcut / nyq\n",
    "    high = highcut / nyq\n",
    "    b, a = butter(order, [low, high], btype='band')\n",
    "    return b, a\n",
    "\n",
    "def butter_bandpass_filter(data, lowcut, highcut, fs, order=3):\n",
    "    b, a = butter_bandpass(lowcut, highcut, fs, order=order)\n",
    "    y = lfilter(b, a, data)\n",
    "    return y\n",
    "\n",
    "fcentre = [125,250,500,1000,2000,4000,8000] # Center freq.-Octave band \n",
    "fc = 30 # cutoff frequency of the speech envelope  at 30 Hz\n",
    "w_L = 2*fc/Fs\n",
    "\n",
    "bz, az = butter(6,w_L, 'low')#lowpas filter order '6'\n",
    "fd = np.power(2,1/2)\n",
    "\n",
    "Fs = 16000 #441000 #new Sampling rate\n",
    "\n",
    "y_subband = np.zeros([7,reDim])\n",
    "y_env = np.zeros([7,reDim])\n",
    "y_env_rs = np.zeros([7,2000])\n",
    "y_env_ds = np.zeros([7,1588])"
   ]
  },
  {
   "cell_type": "code",
   "execution_count": null,
   "metadata": {},
   "outputs": [],
   "source": [
    "x_tune_fea= np.zeros([len(x_tune),6352])\n",
    "x_tune_fea = x_tune_fea.astype('float32')\n",
    "\n",
    "for k in range(1):#(len(x_tune)):\n",
    "    for i in range(3,7):\n",
    "        highcut = fcentre[i] *fd\n",
    "        lowcut = fcentre[i]/fd\n",
    "        b, a = butter_bandpass(lowcut, highcut, Fs, order=6)      \n",
    "        \n",
    "        y_subband[i] = filtfilt(b,a,x_tune[k])     #Octave filter\n",
    "        y_env[i] = filtfilt(bz,az,np.abs(hilbert(y_subband[i])))  #Envelope extraction\n",
    "        #y_env_ds[i] = librosa.resample(y_env[i], Fs, 100)\n",
    "    \n",
    "    Env_concat = np.hstack((y_env_ds[3],y_env_ds[4],y_env_ds[5],y_env_ds[6]))     \n",
    "    #x_tune_fea[k] =  librosa.util.normalize(Env_concat, fill=True) #Normalized   \n",
    "      "
   ]
  },
  {
   "cell_type": "code",
   "execution_count": null,
   "metadata": {
    "collapsed": true
   },
   "outputs": [],
   "source": [
    "x_train_fea= np.zeros([len(x_tune),6352])\n",
    "x_train_fea = x_train_fea.astype('float32')\n",
    "\n",
    "for k in range(len(x_train)):\n",
    "    for i in range(3,7):\n",
    "        highcut = fcentre[i] *fd\n",
    "        lowcut = fcentre[i]/fd\n",
    "        b, a = butter_bandpass(lowcut, highcut, Fs, order=6)      \n",
    "        \n",
    "        y_subband[i] = filtfilt(b,a,x_rain[k])     #Octave filter\n",
    "        y_env[i] = filtfilt(bz,az,np.abs(hilbert(y_subband[i])))  #Envelope extraction\n",
    "        y_env_ds[i] = librosa.resample(y_env[i], Fs, 100)\n",
    "    \n",
    "    Env_concat = np.hstack((y_env_ds[3],y_env_ds[4],y_env_ds[5],y_env_ds[6]))     \n",
    "    x_train_fea[k] =  librosa.util.normalize(Env_concat, fill=True) #"
   ]
  },
  {
   "cell_type": "code",
   "execution_count": null,
   "metadata": {
    "collapsed": true
   },
   "outputs": [],
   "source": [
    "x_test_fea= np.zeros([len(x_tune),6352])\n",
    "x_test_fea = x_test_fea.astype('float32')\n",
    "\n",
    "for k in range(1):#(len(x_tune)):\n",
    "    for i in range(3,7):\n",
    "        highcut = fcentre[i] *fd\n",
    "        lowcut = fcentre[i]/fd\n",
    "        b, a = butter_bandpass(lowcut, highcut, Fs, order=6)      \n",
    "        \n",
    "        y_subband[i] = filtfilt(b,a,x_test[k])     #Octave filter\n",
    "        y_env[i] = filtfilt(bz,az,np.abs(hilbert(y_subband[i])))  #Envelope extraction\n",
    "        y_env_ds[i] = librosa.resample(y_env[i], Fs, 100)\n",
    "    \n",
    "    Env_concat = np.hstack((y_env_ds[3],y_env_ds[4],y_env_ds[5],y_env_ds[6]))     \n",
    "    x_tune_fea[k] =  librosa.util.normalize(Env_concat, fill=True) #Normalized   "
   ]
  },
  {
   "cell_type": "code",
   "execution_count": null,
   "metadata": {
    "collapsed": true
   },
   "outputs": [],
   "source": [
    "plt.subplot(211)\n",
    "plt.plot(y_env[3])\n",
    "plt.subplot(213)\n",
    "plt.plot(y_env[4])\n",
    "plt.subplot(221)\n",
    "plt.plot(y_env[5])\n",
    "plt.subplot(222)\n",
    "plt.plot(y_env[6])"
   ]
  },
  {
   "cell_type": "code",
   "execution_count": null,
   "metadata": {
    "collapsed": true
   },
   "outputs": [],
   "source": [
    "#save features array to file (.npy)\n",
    "np.save('x_tune_fea', x_tune_fea)\n",
    "np.save('x_train_fea', x_train_fea)\n",
    "np.save('x_test_fea', x_test_fea)\n",
    "np.save('y_tune', y_tune)\n",
    "np.save('y_train', y_train)\n",
    "np.save('y_test', y_test)"
   ]
  },
  {
   "cell_type": "markdown",
   "metadata": {},
   "source": [
    "### Create the network "
   ]
  },
  {
   "cell_type": "code",
   "execution_count": null,
   "metadata": {
    "collapsed": true
   },
   "outputs": [],
   "source": [
    "# fix random seed for reproducibility\n",
    "numpy.random.seed(7)\n",
    "# load the dataset but only keep the top n words, zero the rest\n",
    "top_words = 2000\n",
    "embedding_vecor_length = 32\n",
    "\n",
    "model = Sequential()\n",
    "model.add(Embedding(top_words, embedding_vecor_length, input_length=2724))\n",
    "model.add(LSTM(10))\n",
    "model.add(Dense(1, activation='linear'))\n",
    "\n",
    "model.compile(loss='mse', optimizer='adam', metrics=['accuracy','mse'])\n",
    "print(model.summary())\n",
    "\n",
    "model.fit(x_train, y_train, epochs=10, batch_size=64, verbose=1)\n",
    "\n",
    "# Final evaluation of the model\n",
    "scores = model.evaluate(x_test, y_test, verbose=0)\n",
    "print(\"Accuracy: %.2f%%\" % (scores[1]*100))"
   ]
  },
  {
   "cell_type": "code",
   "execution_count": null,
   "metadata": {
    "collapsed": true
   },
   "outputs": [],
   "source": [
    "from keras.layers.convolutional import Conv1D\n",
    "from keras.layers.convolutional import MaxPooling1D\n",
    "\n",
    "model = Sequential()\n",
    "model.add(Embedding(top_words, embedding_vecor_length,\n",
    "                    input_length=max_review_length))\n",
    "model.add(Conv1D(filters=32, kernel_size=3, padding='same',\n",
    "                 activation='relu'))\n",
    "model.add(Conv1D(filters=32, kernel_size=3, padding='same',\n",
    "                 activation='relu'))\n",
    "model.add(MaxPooling1D(pool_size=2))\n",
    "model.add(LSTM(128, drop_out = 0.5))\n",
    "model.add(Dense(1, activation='sigmoid'))\n",
    "model.add(LSTM(128))\n",
    "model.add(Dense(1, activation='linear'))\n",
    "#optimizer='adam'\n",
    "model.compile(loss='mse', \n",
    "              optimizer='rmsprop',\n",
    "              metrics=['accuracy'])\n",
    "\n",
    "print(model.summary())"
   ]
  },
  {
   "cell_type": "markdown",
   "metadata": {},
   "source": [
    "### Tuning"
   ]
  },
  {
   "cell_type": "code",
   "execution_count": null,
   "metadata": {
    "collapsed": true
   },
   "outputs": [],
   "source": [
    "model.fit(x_tune, y_tune, epochs=3, batch_size=5,shuffle=True, verbose=1,validation_split=0.2)"
   ]
  },
  {
   "cell_type": "markdown",
   "metadata": {},
   "source": [
    "### Training"
   ]
  },
  {
   "cell_type": "code",
   "execution_count": null,
   "metadata": {
    "collapsed": true
   },
   "outputs": [],
   "source": [
    "model.fit(x_train, y_train, epochs=20, batch_size=64,shuffle=True  verbose=0)"
   ]
  },
  {
   "cell_type": "markdown",
   "metadata": {},
   "source": [
    "### Evaluate the model"
   ]
  },
  {
   "cell_type": "code",
   "execution_count": null,
   "metadata": {
    "collapsed": true
   },
   "outputs": [],
   "source": [
    "#---------------- Evaluation ---------------\n",
    "scores = model.evaluate(x_test_fea,y_test, verbose=0)\n",
    "y_estimation = model.predict(x_test_fea)\n",
    "\n",
    "accuracy = metrics.r2_score(y_test, y_estimation)\n",
    "print (\"Cross-Predicted Accuracy:\", accuracy)\n",
    "print(\"%s:%.3f%%\"%(model.metrics_names[0],score[1]*100))\n",
    "print(\"RMSE:%.3f\",np.sqrt(metrics.mean_squared_error(y_test,y_estimation)))"
   ]
  },
  {
   "cell_type": "markdown",
   "metadata": {},
   "source": [
    "### Save the trained model "
   ]
  },
  {
   "cell_type": "code",
   "execution_count": null,
   "metadata": {
    "collapsed": true
   },
   "outputs": [],
   "source": [
    "model_json = model.to_json()\n",
    "with open(\"model.json\", \"w\") as json_file:\n",
    "    json_file.write(model_json)\n",
    "model.save_weights(\"model.h5\")"
   ]
  },
  {
   "cell_type": "markdown",
   "metadata": {},
   "source": [
    "*-------------- End of Code --------------------"
   ]
  },
  {
   "cell_type": "markdown",
   "metadata": {},
   "source": []
  },
  {
   "cell_type": "markdown",
   "metadata": {},
   "source": []
  },
  {
   "cell_type": "markdown",
   "metadata": {},
   "source": [
    "### *-------------- debug session ---------------------*"
   ]
  },
  {
   "cell_type": "code",
   "execution_count": null,
   "metadata": {
    "collapsed": true
   },
   "outputs": [],
   "source": [
    "import matplotlib.pyplot as plt \n",
    "%matplotlib inline\n",
    "print(\"Input\",X_data.shape)\n",
    "print(\"Target\",Y_data.shape)\n",
    "print(\"Sampling Rate :\",Fs)"
   ]
  },
  {
   "cell_type": "code",
   "execution_count": 44,
   "metadata": {},
   "outputs": [
    {
     "data": {
      "text/plain": [
       "[<matplotlib.lines.Line2D at 0x27515717128>]"
      ]
     },
     "execution_count": 44,
     "metadata": {},
     "output_type": "execute_result"
    },
    {
     "data": {
      "image/png": "[encoded data removed]",
      "text/plain": [
       "<matplotlib.figure.Figure at 0x275157092b0>"
      ]
     },
     "metadata": {},
     "output_type": "display_data"
    }
   ],
   "source": [
    "plt.plot(x_tune[3])"
   ]
  },
  {
   "cell_type": "code",
   "execution_count": 45,
   "metadata": {},
   "outputs": [
    {
     "name": "stdout",
     "output_type": "stream",
     "text": [
      "Dimension at 44.1 kS/s : 700000\n",
      "Dimension at 16.0 kS/s : 253969\n"
     ]
    }
   ],
   "source": [
    "print(\"Dimension at 44.1 kS/s : %d\" %len(X_data[3]))\n",
    "print(\"Dimension at 16.0 kS/s : %d\" %len(x_test[3]))"
   ]
  },
  {
   "cell_type": "code",
   "execution_count": null,
   "metadata": {
    "collapsed": true
   },
   "outputs": [],
   "source": []
  }
 ],
 "metadata": {
  "accelerator": "GPU",
  "colab": {
   "collapsed_sections": [],
   "default_view": {},
   "name": "ITS489_lecture2.ipynb",
   "provenance": [],
   "version": "0.3.2",
   "views": {}
  },
  "kernelspec": {
   "display_name": "Python 3",
   "language": "python",
   "name": "python3"
  },
  "language_info": {
   "codemirror_mode": {
    "name": "ipython",
    "version": 3
   },
   "file_extension": ".py",
   "mimetype": "text/x-python",
   "name": "python",
   "nbconvert_exporter": "python",
   "pygments_lexer": "ipython3",
   "version": "3.5.4"
  }
 },
 "nbformat": 4,
 "nbformat_minor": 1
}
